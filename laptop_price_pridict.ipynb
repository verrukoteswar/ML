{
  "nbformat": 4,
  "nbformat_minor": 0,
  "metadata": {
    "colab": {
      "private_outputs": true,
      "provenance": []
    },
    "kernelspec": {
      "name": "python3",
      "display_name": "Python 3"
    },
    "language_info": {
      "name": "python"
    }
  },
  "cells": [
    {
      "cell_type": "code",
      "source": [
        "import pandas as pd"
      ],
      "metadata": {
        "id": "EMHVQgPcMDoQ"
      },
      "execution_count": null,
      "outputs": []
    },
    {
      "cell_type": "code",
      "source": [
        "df= pd.read_csv(\"laptop.csv\")"
      ],
      "metadata": {
        "id": "rCNupdgxNkud"
      },
      "execution_count": null,
      "outputs": []
    },
    {
      "cell_type": "code",
      "source": [
        "df.head(2)"
      ],
      "metadata": {
        "id": "jL5bizvcNzcf"
      },
      "execution_count": null,
      "outputs": []
    },
    {
      "cell_type": "code",
      "source": [
        "df.drop(columns= \t['Unnamed: 0.1', 'Unnamed: 0'], axis=1, inplace= True)"
      ],
      "metadata": {
        "id": "3FSgBNZnN_X1"
      },
      "execution_count": null,
      "outputs": []
    },
    {
      "cell_type": "code",
      "source": [
        "df.sample(4)"
      ],
      "metadata": {
        "id": "kHBgORW6Og28"
      },
      "execution_count": null,
      "outputs": []
    },
    {
      "cell_type": "code",
      "source": [
        "df.isnull().sum()"
      ],
      "metadata": {
        "id": "vT6aZLqdPl0C"
      },
      "execution_count": null,
      "outputs": []
    },
    {
      "cell_type": "code",
      "source": [
        "df.shape"
      ],
      "metadata": {
        "id": "b3t9ymxl4d4K"
      },
      "execution_count": null,
      "outputs": []
    },
    {
      "cell_type": "code",
      "source": [
        "df.info()"
      ],
      "metadata": {
        "id": "9n_M91P45Wfc"
      },
      "execution_count": null,
      "outputs": []
    },
    {
      "cell_type": "code",
      "source": [
        "df['Company'] = df['Company'].fillna(df['Company'].mode()[0])\n",
        "df['TypeName'] = df['TypeName'].fillna(df['TypeName'].mode()[0])\n",
        "df['ScreenResolution'] = df['ScreenResolution'].fillna(df['ScreenResolution'].mode()[0])\n",
        "df['Cpu'] = df['Cpu'].fillna(df['Cpu'].mode()[0])\n",
        "df['Ram'] = df['Ram'].fillna(df['Ram'].mode()[0])\n",
        "df['Memory'] = df['Memory'].fillna(df['Memory'].mode()[0])\n",
        "df['Gpu'] = df['Gpu'].fillna(df['Gpu'].mode()[0])\n",
        "df['OpSys'] = df['OpSys'].fillna(df['OpSys'].mode()[0])\n",
        "df['Weight'] = df['Weight'].fillna(df['Weight'].mode()[0])"
      ],
      "metadata": {
        "id": "dqQk41Y75xie"
      },
      "execution_count": null,
      "outputs": []
    },
    {
      "cell_type": "code",
      "source": [
        "df['Inches'] = pd.to_numeric(df['Inches'], errors='coerce')\n",
        "df['Price'] = pd.to_numeric(df['Price'], errors='coerce')\n",
        "\n"
      ],
      "metadata": {
        "id": "Lu2zFRhdP2Kh"
      },
      "execution_count": null,
      "outputs": []
    },
    {
      "cell_type": "code",
      "source": [
        "from matplotlib import pyplot as plt\n",
        "import seaborn as sns\n",
        "\n",
        "plt.figure(figsize=(8,4))\n",
        "plt.subplot(1,2,1)\n",
        "df['Inches'].plot(kind='box')\n",
        "plt.subplot(1,2,2)\n",
        "df['Price'].plot(kind='box')"
      ],
      "metadata": {
        "id": "Uq7CVouoZqjM"
      },
      "execution_count": null,
      "outputs": []
    },
    {
      "cell_type": "code",
      "source": [
        "## Here 'Inches' and 'Price' columns has outliers so we would go for 'MEDIAN'\n",
        "df['Inches'] = df['Inches'].fillna(df['Inches'].median())\n",
        "df['Price'] = df['Price'].fillna(df['Price'].median())"
      ],
      "metadata": {
        "id": "EsfiOTIHbwO0"
      },
      "execution_count": null,
      "outputs": []
    },
    {
      "cell_type": "code",
      "source": [
        "df.isnull().sum()"
      ],
      "metadata": {
        "id": "zh7t5UeFcHKk"
      },
      "execution_count": null,
      "outputs": []
    },
    {
      "cell_type": "code",
      "source": [
        "df.info()"
      ],
      "metadata": {
        "id": "yDfKxyCPcx0z"
      },
      "execution_count": null,
      "outputs": []
    },
    {
      "cell_type": "code",
      "source": [
        "df.shape"
      ],
      "metadata": {
        "id": "w8OxM9I0ngIf"
      },
      "execution_count": null,
      "outputs": []
    },
    {
      "cell_type": "code",
      "source": [
        "df['Ram']= df['Ram'].str.replace('GB','')\n",
        "df['Weight']= df['Weight'].str.replace('kg','')"
      ],
      "metadata": {
        "id": "C17AZT5enscy"
      },
      "execution_count": null,
      "outputs": []
    },
    {
      "cell_type": "code",
      "source": [
        "df.sample(3)"
      ],
      "metadata": {
        "id": "H98qu7LDrSXR"
      },
      "execution_count": null,
      "outputs": []
    },
    {
      "cell_type": "code",
      "source": [
        "df['Ram']= df['Ram'].astype('int32')\n",
        "\n",
        "df['Weight']= pd.to_numeric(df['Weight'], errors='coerce')\n",
        "df['Weight']= df['Weight'].astype('float32')"
      ],
      "metadata": {
        "id": "0eDZCQtXrcPI"
      },
      "execution_count": null,
      "outputs": []
    },
    {
      "cell_type": "code",
      "source": [
        "df.info()"
      ],
      "metadata": {
        "id": "jgzcVo2mtnKx"
      },
      "execution_count": null,
      "outputs": []
    },
    {
      "cell_type": "code",
      "source": [
        "sns.distplot(df['Price'])"
      ],
      "metadata": {
        "id": "PnxvLUbO7Fx7"
      },
      "execution_count": null,
      "outputs": []
    },
    {
      "cell_type": "code",
      "source": [
        "df['Company'].value_counts().plot(kind= 'bar')"
      ],
      "metadata": {
        "id": "O_glqRuu7K18"
      },
      "execution_count": null,
      "outputs": []
    },
    {
      "cell_type": "code",
      "source": [
        "sns.barplot(x=df['Company'],y=df['Price'])\n",
        "plt.xticks(rotation= 'vertical')\n",
        "plt.show()"
      ],
      "metadata": {
        "id": "HTe7RnBt7V44"
      },
      "execution_count": null,
      "outputs": []
    },
    {
      "cell_type": "code",
      "source": [
        "df['TypeName'].value_counts().plot(kind='bar')"
      ],
      "metadata": {
        "id": "iSxh9P6x8dQp"
      },
      "execution_count": null,
      "outputs": []
    },
    {
      "cell_type": "code",
      "source": [
        "sns.barplot(x=df['TypeName'],y=df['Price'])\n",
        "plt.xticks(rotation= 'vertical')\n",
        "plt.show()"
      ],
      "metadata": {
        "id": "Oua9apwF9B5A"
      },
      "execution_count": null,
      "outputs": []
    },
    {
      "cell_type": "code",
      "source": [
        "sns.distplot(df['Inches'])"
      ],
      "metadata": {
        "id": "23UR4vYy9YrX"
      },
      "execution_count": null,
      "outputs": []
    },
    {
      "cell_type": "code",
      "source": [
        "sns.scatterplot(x=df['Inches'], y=df['Price'])"
      ],
      "metadata": {
        "id": "s8ZHGGTN9230"
      },
      "execution_count": null,
      "outputs": []
    },
    {
      "cell_type": "code",
      "source": [
        "df['ScreenResolution'].value_counts()"
      ],
      "metadata": {
        "id": "p6-8BSh9-e64"
      },
      "execution_count": null,
      "outputs": []
    },
    {
      "cell_type": "code",
      "source": [],
      "metadata": {
        "id": "fq0nyJcQ-uRk"
      },
      "execution_count": null,
      "outputs": []
    },
    {
      "cell_type": "code",
      "source": [
        "df['Touchscreen'] = df['ScreenResolution'].apply(lambda x:1 if 'Touchscreen' in x else 0)"
      ],
      "metadata": {
        "id": "-RzQGuRatpSS"
      },
      "execution_count": null,
      "outputs": []
    },
    {
      "cell_type": "code",
      "source": [
        "df.sample(3)"
      ],
      "metadata": {
        "id": "huKlhRSlyUtL"
      },
      "execution_count": null,
      "outputs": []
    },
    {
      "cell_type": "code",
      "source": [
        "df['Touchscreen'].value_counts().plot(kind='bar')"
      ],
      "metadata": {
        "id": "AKPMKJgwATJI"
      },
      "execution_count": null,
      "outputs": []
    },
    {
      "cell_type": "code",
      "source": [
        "sns.barplot(x=df['Touchscreen'], y=df['Price'])"
      ],
      "metadata": {
        "id": "65LulQhRAzq5"
      },
      "execution_count": null,
      "outputs": []
    },
    {
      "cell_type": "code",
      "source": [
        "df['IPS']= df['ScreenResolution'].apply(lambda x:1 if 'IPS' in x else 0)"
      ],
      "metadata": {
        "id": "ePZ-R4phB9jI"
      },
      "execution_count": null,
      "outputs": []
    },
    {
      "cell_type": "code",
      "source": [
        "df.sample(3)"
      ],
      "metadata": {
        "id": "acX6812aDBtm"
      },
      "execution_count": null,
      "outputs": []
    },
    {
      "cell_type": "code",
      "source": [
        "df['IPS'].value_counts().plot(kind='bar')"
      ],
      "metadata": {
        "id": "i2-1Z7irDMv0"
      },
      "execution_count": null,
      "outputs": []
    },
    {
      "cell_type": "code",
      "source": [
        "sns.barplot(x=df['IPS'], y=df['Price'])"
      ],
      "metadata": {
        "id": "0k3ZJeeRDsdo"
      },
      "execution_count": null,
      "outputs": []
    },
    {
      "cell_type": "code",
      "source": [
        "df.head(3)"
      ],
      "metadata": {
        "id": "K5I7KUgHEgn1"
      },
      "execution_count": null,
      "outputs": []
    },
    {
      "cell_type": "code",
      "source": [
        "new= df['ScreenResolution'].str.split('x',n=1,expand= True)"
      ],
      "metadata": {
        "id": "I3FNFKleGRIU"
      },
      "execution_count": null,
      "outputs": []
    },
    {
      "cell_type": "code",
      "source": [
        "df['x_new'] =new[0]\n",
        "df['y_new'] =new[1]"
      ],
      "metadata": {
        "id": "A41bhnEyPOsu"
      },
      "execution_count": null,
      "outputs": []
    },
    {
      "cell_type": "code",
      "source": [
        "df.head()"
      ],
      "metadata": {
        "id": "Z4-1meiGPywm"
      },
      "execution_count": null,
      "outputs": []
    },
    {
      "cell_type": "code",
      "source": [
        "df['x_new'] = df['x_new'].str.extract('(\\d+)')"
      ],
      "metadata": {
        "id": "bY2Y2x4CP-Cu"
      },
      "execution_count": null,
      "outputs": []
    },
    {
      "cell_type": "code",
      "source": [
        "df.head()"
      ],
      "metadata": {
        "id": "-sCIl9AbX_rz"
      },
      "execution_count": null,
      "outputs": []
    },
    {
      "cell_type": "code",
      "source": [
        "df.info()"
      ],
      "metadata": {
        "id": "vq9Khd19gzOU"
      },
      "execution_count": null,
      "outputs": []
    },
    {
      "cell_type": "code",
      "source": [
        "df['x_new']= df['x_new'].astype(int)\n",
        "df['y_new']= df['y_new'].astype(int)"
      ],
      "metadata": {
        "id": "oRRu9RL0hAsX"
      },
      "execution_count": null,
      "outputs": []
    },
    {
      "cell_type": "code",
      "source": [
        "df.info()"
      ],
      "metadata": {
        "id": "UldwF4aOi2ZR"
      },
      "execution_count": null,
      "outputs": []
    },
    {
      "cell_type": "code",
      "source": [
        "# we find 'PPI' value[(x**2+y**2)**0.5/inches]       --x=weigth, y=hight   --0.5 is placed instead of squt(squareroot)"
      ],
      "metadata": {
        "id": "YVT_MKTmi8u9"
      },
      "execution_count": null,
      "outputs": []
    },
    {
      "cell_type": "code",
      "source": [
        "df['ppi']= (df['x_new']**2 + df['y_new']**2)**0.5/df['Inches']"
      ],
      "metadata": {
        "id": "Qm-5G8uxuLu7"
      },
      "execution_count": null,
      "outputs": []
    },
    {
      "cell_type": "code",
      "source": [
        "df.head()"
      ],
      "metadata": {
        "id": "-P5jlhbKuNYj"
      },
      "execution_count": null,
      "outputs": []
    },
    {
      "cell_type": "code",
      "source": [
        "df.drop(columns= ['ScreenResolution','x_new','y_new','Inches'],axis=1, inplace= True)"
      ],
      "metadata": {
        "id": "K81kc6bsvXTQ"
      },
      "execution_count": null,
      "outputs": []
    },
    {
      "cell_type": "code",
      "source": [
        "df.columns"
      ],
      "metadata": {
        "id": "CwbeTwLqwy6N"
      },
      "execution_count": null,
      "outputs": []
    },
    {
      "cell_type": "code",
      "source": [
        "df.head()"
      ],
      "metadata": {
        "id": "CYfLfmPww5R1"
      },
      "execution_count": null,
      "outputs": []
    },
    {
      "cell_type": "code",
      "source": [
        "df['cpu_name']= df['Cpu'].apply(lambda x: ' '.join(x.split()[:3]))"
      ],
      "metadata": {
        "id": "Jnnwd53tMLTe"
      },
      "execution_count": null,
      "outputs": []
    },
    {
      "cell_type": "code",
      "source": [
        "df.head(3)"
      ],
      "metadata": {
        "id": "n77MmEmQiwUN"
      },
      "execution_count": null,
      "outputs": []
    },
    {
      "cell_type": "code",
      "source": [
        "def fetch_processor(text):\n",
        "  if text == 'Intel Core i5' or text == 'Intel Core i7' or text == 'Intel Core i3':\n",
        "    return text\n",
        "  else:\n",
        "    if text.split()[0] == 'Intel':\n",
        "      return 'Other Intel Processor'\n",
        "    else:\n",
        "      return 'AMD processor'\n"
      ],
      "metadata": {
        "id": "7agDRgk0jBTs"
      },
      "execution_count": null,
      "outputs": []
    },
    {
      "cell_type": "code",
      "source": [
        "df['cpu_brand'] = df['cpu_name'].apply(fetch_processor)"
      ],
      "metadata": {
        "id": "MudPL81rlLu3"
      },
      "execution_count": null,
      "outputs": []
    },
    {
      "cell_type": "code",
      "source": [
        "df.sample(5)"
      ],
      "metadata": {
        "id": "et9umYXImRLl"
      },
      "execution_count": null,
      "outputs": []
    },
    {
      "cell_type": "code",
      "source": [
        "df['cpu_brand'].value_counts().plot(kind='bar')"
      ],
      "metadata": {
        "id": "D9Aoc-DFoT5G"
      },
      "execution_count": null,
      "outputs": []
    },
    {
      "cell_type": "code",
      "source": [
        "sns.barplot(x=df['cpu_brand'],y=df['Price'])\n",
        "plt.xticks(rotation='vertical')\n",
        "plt.show()"
      ],
      "metadata": {
        "id": "WelPGrYjrQ4W"
      },
      "execution_count": null,
      "outputs": []
    },
    {
      "cell_type": "code",
      "source": [
        "df.drop(columns=['Cpu','cpu_name'],axis=1,inplace =True)"
      ],
      "metadata": {
        "id": "33FoIrOyu4Zz"
      },
      "execution_count": null,
      "outputs": []
    },
    {
      "cell_type": "code",
      "source": [
        "df.head()"
      ],
      "metadata": {
        "id": "8M09onXKxWdN"
      },
      "execution_count": null,
      "outputs": []
    },
    {
      "cell_type": "code",
      "source": [
        "df['Ram'].value_counts().plot(kind='bar')"
      ],
      "metadata": {
        "id": "w8HiVb1cxksU"
      },
      "execution_count": null,
      "outputs": []
    },
    {
      "cell_type": "code",
      "source": [
        "sns.barplot(x=df['Ram'],y=df['Price'])\n",
        "plt.xticks(rotation='vertical')\n",
        "plt.show()"
      ],
      "metadata": {
        "id": "E8ga12QFyNAo"
      },
      "execution_count": null,
      "outputs": []
    },
    {
      "cell_type": "code",
      "source": [
        "df['Memory'].value_counts()"
      ],
      "metadata": {
        "id": "jaaAAvC30PbE"
      },
      "execution_count": null,
      "outputs": []
    },
    {
      "cell_type": "code",
      "source": [],
      "metadata": {
        "id": "rtEzwKw76VTW"
      },
      "execution_count": null,
      "outputs": []
    },
    {
      "cell_type": "code",
      "source": [
        "df['Memory']= df['Memory'].str.replace('TB', '000')\n",
        "df['Memory']= df['Memory'].str.replace('GB', '')"
      ],
      "metadata": {
        "id": "Cc3uZ_Vh-t7n"
      },
      "execution_count": null,
      "outputs": []
    },
    {
      "cell_type": "code",
      "source": [
        "# Create separate columns for 'SSD', 'HDD', 'Hybrid', and 'Flash Storage'\n",
        "df['SSD'] = df['Memory'].apply(lambda x: ' + '.join([i.split()[0] for i in x.split(' + ') if 'SSD' in i]) or '0')\n",
        "df['HDD'] = df['Memory'].apply(lambda x: ' + '.join([i.split()[0] for i in x.split(' + ') if 'HDD' in i]) or '0')\n",
        "df['Hybrid'] = df['Memory'].apply(lambda x: ' + '.join([i.split()[0] for i in x.split(' + ') if 'Hybrid' in i]) or '0')\n",
        "df['Flash Storage'] = df['Memory'].apply(lambda x: ' + '.join([i.split()[0] for i in x.split(' + ') if 'Flash' in i]) or '0')\n"
      ],
      "metadata": {
        "id": "T48jtXWsDnhY"
      },
      "execution_count": null,
      "outputs": []
    },
    {
      "cell_type": "code",
      "source": [
        "df.head()"
      ],
      "metadata": {
        "id": "yKbRqIlnQkB2"
      },
      "execution_count": null,
      "outputs": []
    },
    {
      "cell_type": "code",
      "source": [
        "#  Convert columns to numeric if possible, forcing errors to NaN\n",
        "df_numeric = df.apply(pd.to_numeric, errors='coerce')\n",
        "\n",
        "#  Drop columns that are not numeric or have been converted to NaN\n",
        "df_numeric = df_numeric.dropna(axis=1, how='all')\n",
        "\n",
        "# Calculate the correlation with the 'Price' column\n",
        "correlation_with_price = df_numeric.corr()['Price']\n",
        "\n",
        "print(correlation_with_price)\n",
        "correlation_with_price = df_numeric.corr()['Price']\n"
      ],
      "metadata": {
        "id": "y0XdZrNaQyuT"
      },
      "execution_count": null,
      "outputs": []
    },
    {
      "cell_type": "code",
      "source": [
        "# here Hybrid Flash Storage are very less co_relation so we would removed it.\n",
        "df.drop(columns=['Hybrid','Flash Storage'],axis=1,inplace= True)"
      ],
      "metadata": {
        "id": "8_eA1mTiVX4c"
      },
      "execution_count": null,
      "outputs": []
    },
    {
      "cell_type": "code",
      "source": [
        "df.head()"
      ],
      "metadata": {
        "id": "GncMVER3Yu0P"
      },
      "execution_count": null,
      "outputs": []
    },
    {
      "cell_type": "code",
      "source": [
        "df['Gpu'].value_counts()"
      ],
      "metadata": {
        "id": "zGopbCtEbOfK"
      },
      "execution_count": null,
      "outputs": []
    },
    {
      "cell_type": "code",
      "source": [
        "df['gpu_brand']= df['Gpu'].apply(lambda x: x.split()[0])"
      ],
      "metadata": {
        "id": "Sgr1pySGbtc-"
      },
      "execution_count": null,
      "outputs": []
    },
    {
      "cell_type": "code",
      "source": [],
      "metadata": {
        "id": "sm9Hnz3MdNVC"
      },
      "execution_count": null,
      "outputs": []
    },
    {
      "cell_type": "code",
      "source": [
        "df.head(3)"
      ],
      "metadata": {
        "id": "TM3vK4nmcU-f"
      },
      "execution_count": null,
      "outputs": []
    },
    {
      "cell_type": "code",
      "source": [
        "df['gpu_brand'].value_counts()"
      ],
      "metadata": {
        "id": "lfo8rCFSc5LK"
      },
      "execution_count": null,
      "outputs": []
    },
    {
      "cell_type": "code",
      "source": [
        "# here only one quantity of 'ARM' so removed it\n",
        "df= df[df['gpu_brand']!='ARM']"
      ],
      "metadata": {
        "id": "_-JRrr1Md9CI"
      },
      "execution_count": null,
      "outputs": []
    },
    {
      "cell_type": "code",
      "source": [
        "df['gpu_brand'].value_counts()"
      ],
      "metadata": {
        "id": "oT39sWQeekbT"
      },
      "execution_count": null,
      "outputs": []
    },
    {
      "cell_type": "code",
      "source": [
        "sns.barplot(x=df['gpu_brand'], y= df['Price'])\n",
        "plt.xticks(rotation='vertical')\n",
        "plt.show()"
      ],
      "metadata": {
        "id": "WRDSBNs7exV8"
      },
      "execution_count": null,
      "outputs": []
    },
    {
      "cell_type": "code",
      "source": [
        "df.drop(columns=['Memory','Gpu'], axis=1, inplace= True)"
      ],
      "metadata": {
        "id": "RE7_TjQ6fz0t"
      },
      "execution_count": null,
      "outputs": []
    },
    {
      "cell_type": "code",
      "source": [
        "df.head()"
      ],
      "metadata": {
        "id": "nywOeTbzhIUb"
      },
      "execution_count": null,
      "outputs": []
    },
    {
      "cell_type": "code",
      "source": [
        "df['OpSys'].value_counts()"
      ],
      "metadata": {
        "id": "7a8QddiKhJw0"
      },
      "execution_count": null,
      "outputs": []
    },
    {
      "cell_type": "code",
      "source": [
        "sns.barplot(x=df['OpSys'],y=df['Price'])\n",
        "plt.xticks(rotation='vertical')\n",
        "plt.show()"
      ],
      "metadata": {
        "id": "BAJPOTl6id66"
      },
      "execution_count": null,
      "outputs": []
    },
    {
      "cell_type": "code",
      "source": [
        "def cat_os(inp):\n",
        "  if inp == 'Windows 10' or inp == 'Windows 7' or inp == 'Windows 10 S':\n",
        "    return 'Windows'\n",
        "  elif inp == 'macOS' or inp == 'Mac OS X':\n",
        "    return 'Mac'\n",
        "  else:\n",
        "    return 'Others'"
      ],
      "metadata": {
        "id": "HhpcILvCi3T4"
      },
      "execution_count": null,
      "outputs": []
    },
    {
      "cell_type": "code",
      "source": [
        "df['os'] = df['OpSys'].apply(cat_os)"
      ],
      "metadata": {
        "id": "UVnkDZHplNUn"
      },
      "execution_count": null,
      "outputs": []
    },
    {
      "cell_type": "code",
      "source": [
        "df.head()"
      ],
      "metadata": {
        "id": "fIxHPEcglkW2"
      },
      "execution_count": null,
      "outputs": []
    },
    {
      "cell_type": "code",
      "source": [
        "df.drop(columns=['OpSys'],inplace= True)"
      ],
      "metadata": {
        "id": "WitYCRg_lrjh"
      },
      "execution_count": null,
      "outputs": []
    },
    {
      "cell_type": "code",
      "source": [
        "df.head(2)"
      ],
      "metadata": {
        "id": "8b4kaZ2Xl65v"
      },
      "execution_count": null,
      "outputs": []
    },
    {
      "cell_type": "code",
      "source": [
        "sns.barplot(x=df['os'],y=df['Price'])\n",
        "plt.xticks(rotation='vertical')\n",
        "plt.show()"
      ],
      "metadata": {
        "id": "cPJIhbZAmJh7"
      },
      "execution_count": null,
      "outputs": []
    },
    {
      "cell_type": "code",
      "source": [
        "sns.distplot(df['Weight'])"
      ],
      "metadata": {
        "id": "BlLyKpFFmZuk"
      },
      "execution_count": null,
      "outputs": []
    },
    {
      "cell_type": "code",
      "source": [
        "sns.scatterplot(x=df['Weight'],y=df['Price'])"
      ],
      "metadata": {
        "id": "kxR5x2S_m1vq"
      },
      "execution_count": null,
      "outputs": []
    },
    {
      "cell_type": "code",
      "source": [
        "df.head()"
      ],
      "metadata": {
        "id": "BQiKmodrxv_Q"
      },
      "execution_count": null,
      "outputs": []
    },
    {
      "cell_type": "code",
      "source": [
        "df1= df.copy()\n",
        "df2= df.copy()"
      ],
      "metadata": {
        "id": "Gb4ZlLgArRf8"
      },
      "execution_count": null,
      "outputs": []
    },
    {
      "cell_type": "code",
      "source": [
        "df['Company'].value_counts()"
      ],
      "metadata": {
        "id": "Lncdf6mzr75b"
      },
      "execution_count": null,
      "outputs": []
    },
    {
      "cell_type": "code",
      "source": [
        "# heare all are nominal\n",
        "\n",
        "# Company\n",
        "# cpu_brand\n",
        "# TypeName\n",
        "# gpu_brand\n",
        "# os"
      ],
      "metadata": {
        "id": "sfp5722ASpy4"
      },
      "execution_count": null,
      "outputs": []
    },
    {
      "cell_type": "code",
      "source": [
        "df_dummies = pd.get_dummies(df, columns=['Company', 'TypeName', 'cpu_brand', 'gpu_brand', 'os'], drop_first=True)\n"
      ],
      "metadata": {
        "id": "PNBeq25cVXqP"
      },
      "execution_count": null,
      "outputs": []
    },
    {
      "cell_type": "code",
      "source": [
        "df_dummies.head()"
      ],
      "metadata": {
        "id": "op0wvobJItA3"
      },
      "execution_count": null,
      "outputs": []
    },
    {
      "cell_type": "code",
      "source": [
        "df= df_dummies * 1"
      ],
      "metadata": {
        "id": "AgSvW_ZwZbJZ"
      },
      "execution_count": null,
      "outputs": []
    },
    {
      "cell_type": "code",
      "source": [
        "df.head()"
      ],
      "metadata": {
        "id": "9vIjT2qpJ025"
      },
      "execution_count": null,
      "outputs": []
    },
    {
      "cell_type": "code",
      "source": [
        "df.info()"
      ],
      "metadata": {
        "id": "xvSCD50nbeny"
      },
      "execution_count": null,
      "outputs": []
    },
    {
      "cell_type": "code",
      "source": [
        "df['SSD'] = df['SSD'].apply(lambda x: eval(x)).astype('int64')\n",
        "df['HDD'] = df['HDD'].apply(lambda x: eval(x)).astype('int64')"
      ],
      "metadata": {
        "id": "_5V70wIEbgXW"
      },
      "execution_count": null,
      "outputs": []
    },
    {
      "cell_type": "code",
      "source": [
        "df.info()"
      ],
      "metadata": {
        "id": "jRzWHcSdbiEY"
      },
      "execution_count": null,
      "outputs": []
    },
    {
      "cell_type": "code",
      "source": [
        "df"
      ],
      "metadata": {
        "id": "hc_07x8rkeYg"
      },
      "execution_count": null,
      "outputs": []
    },
    {
      "cell_type": "code",
      "source": [
        "x=df.drop(columns=['Price'])\n",
        "y=df['Price']"
      ],
      "metadata": {
        "id": "5zBuWv-C3lhP"
      },
      "execution_count": null,
      "outputs": []
    },
    {
      "cell_type": "code",
      "source": [
        "x"
      ],
      "metadata": {
        "id": "Mh-SRcwz3lP_"
      },
      "execution_count": null,
      "outputs": []
    },
    {
      "cell_type": "code",
      "source": [
        "y"
      ],
      "metadata": {
        "id": "TNQYneLfULDQ"
      },
      "execution_count": null,
      "outputs": []
    },
    {
      "cell_type": "markdown",
      "source": [
        "#Linear Regression"
      ],
      "metadata": {
        "id": "qkd6sxiTyTEQ"
      }
    },
    {
      "cell_type": "code",
      "source": [
        "from sklearn.model_selection import train_test_split\n",
        "x_train,x_test,y_train,y_test = train_test_split(x,y,test_size=0.2,random_state= 42)\n",
        "from sklearn.linear_model import LinearRegression\n",
        "lr= LinearRegression()\n",
        "lr.fit(x_train,y_train)"
      ],
      "metadata": {
        "id": "zpRjnyrZUPaK"
      },
      "execution_count": null,
      "outputs": []
    },
    {
      "cell_type": "code",
      "source": [
        "# x_test data contain null_values so we will fill\n",
        "\n",
        "from sklearn.impute import SimpleImputer\n",
        "\n",
        "imputer = SimpleImputer(strategy='median')\n",
        "x_test = imputer.fit_transform(x_test)"
      ],
      "metadata": {
        "id": "cQIg2162kOdv"
      },
      "execution_count": null,
      "outputs": []
    },
    {
      "cell_type": "code",
      "source": [
        "ypred= lr.predict(x_test)"
      ],
      "metadata": {
        "id": "WL58ENqaUUhe"
      },
      "execution_count": null,
      "outputs": []
    },
    {
      "cell_type": "code",
      "source": [
        "##   MODAL EVALUATION MATRICS\n",
        "from sklearn.metrics import mean_squared_error, r2_score, mean_absolute_error, mean_squared_log_error\n",
        "\n",
        "print(f'MSE: {mean_squared_error(y_test,ypred)}')\n",
        "print(f'R-square: {r2_score(y_test,ypred)}')\n",
        "print(f'MAE: {mean_absolute_error(y_test,ypred)}')\n",
        "print(f'RMSE: {mean_squared_log_error(y_test,ypred)}')"
      ],
      "metadata": {
        "id": "pDhxILIuYVBx"
      },
      "execution_count": null,
      "outputs": []
    },
    {
      "cell_type": "code",
      "source": [
        "y.var()         # MSE very low value compared to the VARIANCE at that time my model is good"
      ],
      "metadata": {
        "id": "MXJBPGxOJNHD"
      },
      "execution_count": null,
      "outputs": []
    },
    {
      "cell_type": "markdown",
      "source": [
        "   # Random Forest"
      ],
      "metadata": {
        "id": "kmTRvK84yqA2"
      }
    },
    {
      "cell_type": "code",
      "source": [
        "from sklearn.ensemble import RandomForestRegressor\n",
        "rfr= RandomForestRegressor()\n",
        "rfr.fit(x_train,y_train)"
      ],
      "metadata": {
        "id": "8LELoCZpTKxQ"
      },
      "execution_count": null,
      "outputs": []
    },
    {
      "cell_type": "code",
      "source": [
        "ypred= rfr.predict(x_test)"
      ],
      "metadata": {
        "id": "Tt1lwyhL8ILx"
      },
      "execution_count": null,
      "outputs": []
    },
    {
      "cell_type": "code",
      "source": [
        "from sklearn.metrics import mean_squared_error, r2_score, mean_absolute_error, mean_squared_log_error\n",
        "\n",
        "print(f'MSE: {mean_squared_error(y_test,ypred)}')\n",
        "print(f'R-square: {r2_score(y_test,ypred)}')\n",
        "print(f'MAE: {mean_absolute_error(y_test,ypred)}')\n",
        "print(f'RMSE: {mean_squared_log_error(y_test,ypred)}')"
      ],
      "metadata": {
        "id": "eNyDNr5MDUQH"
      },
      "execution_count": null,
      "outputs": []
    },
    {
      "cell_type": "code",
      "source": [
        "y.var()         # MSE very low value compared to the VARIANCE at that time my model is good"
      ],
      "metadata": {
        "id": "vPpOHStbMltf"
      },
      "execution_count": null,
      "outputs": []
    },
    {
      "cell_type": "markdown",
      "source": [
        "# Gradient Boosting"
      ],
      "metadata": {
        "id": "gGHntx3lOLDR"
      }
    },
    {
      "cell_type": "code",
      "source": [
        "from xgboost import XGBRegressor\n",
        "xgbr= XGBRegressor()\n",
        "xgbr.fit(x_train,y_train)"
      ],
      "metadata": {
        "id": "Ne30RTOHOJog"
      },
      "execution_count": null,
      "outputs": []
    },
    {
      "cell_type": "code",
      "source": [
        "ypred= xgbr.predict(x_test)"
      ],
      "metadata": {
        "id": "DhvaqAfiQI7V"
      },
      "execution_count": null,
      "outputs": []
    },
    {
      "cell_type": "code",
      "source": [
        "from sklearn.metrics import mean_squared_error, r2_score, mean_absolute_error, mean_squared_log_error\n",
        "\n",
        "print(f'MSE: {mean_squared_error(y_test,ypred)}')\n",
        "print(f'R-square: {r2_score(y_test,ypred)}')\n",
        "print(f'MAE: {mean_absolute_error(y_test,ypred)}')\n",
        "print(f'RMSE: {mean_squared_log_error(y_test,ypred)}')"
      ],
      "metadata": {
        "id": "_ja9-QtxQwvI"
      },
      "execution_count": null,
      "outputs": []
    },
    {
      "cell_type": "code",
      "source": [
        "y.var()         # MSE very low value compared to the VARIANCE at that time my model is good"
      ],
      "metadata": {
        "id": "88-q_H71Q7c5"
      },
      "execution_count": null,
      "outputs": []
    },
    {
      "cell_type": "code",
      "source": [],
      "metadata": {
        "id": "j0ZKMPHTTZ-F"
      },
      "execution_count": null,
      "outputs": []
    },
    {
      "cell_type": "markdown",
      "source": [
        "# Hyper Parameter Tuning"
      ],
      "metadata": {
        "id": "TJQ5Yu8ECcpw"
      }
    },
    {
      "cell_type": "code",
      "source": [
        "from sklearn.model_selection import RandomizedSearchCV\n",
        "from xgboost import XGBRegressor\n",
        "regressor = XGBRegressor()\n",
        "\n",
        "parameters= {\n",
        "    \"learning_rate\": [0.1,0.15,0.2,0.25,0.3],\n",
        "    \"gamma\": [0,0.1,0.2,0.3,0.4],\n",
        "    \"max_depth\": [3,4,5,6,7],\n",
        "    \"min_child_weight\": [1,2,3,4,5,6]\n",
        "   }"
      ],
      "metadata": {
        "id": "90WbBoLJXEFK"
      },
      "execution_count": null,
      "outputs": []
    },
    {
      "cell_type": "code",
      "source": [
        "randomcv= RandomizedSearchCV(estimator= regressor, param_distributions= parameters, cv= 10, n_jobs= -1)"
      ],
      "metadata": {
        "id": "yyY_d06EET1-"
      },
      "execution_count": null,
      "outputs": []
    },
    {
      "cell_type": "code",
      "source": [
        "randomcv.fit(x_train,y_train)"
      ],
      "metadata": {
        "id": "AYKHykNRJIFO"
      },
      "execution_count": null,
      "outputs": []
    },
    {
      "cell_type": "code",
      "source": [
        "randomcv.best_estimator_"
      ],
      "metadata": {
        "id": "5qq0IXHiN46n"
      },
      "execution_count": null,
      "outputs": []
    },
    {
      "cell_type": "code",
      "source": [
        "randomcv.best_params_"
      ],
      "metadata": {
        "id": "MV6DSS47PvjW"
      },
      "execution_count": null,
      "outputs": []
    },
    {
      "cell_type": "code",
      "source": [
        "randomcv.best_score_"
      ],
      "metadata": {
        "id": "obm9Vpc2P79X"
      },
      "execution_count": null,
      "outputs": []
    },
    {
      "cell_type": "markdown",
      "source": [
        "# -----------------------------------END-------------------------------------"
      ],
      "metadata": {
        "id": "AHJEgyX1XExa"
      }
    },
    {
      "cell_type": "code",
      "source": [],
      "metadata": {
        "id": "5KF6AHaTXDrF"
      },
      "execution_count": null,
      "outputs": []
    },
    {
      "cell_type": "markdown",
      "source": [
        "## ONEHOTENCODER form sklearn for NOMINAL ENCODING"
      ],
      "metadata": {
        "id": "XRPaDuB2iHyK"
      }
    },
    {
      "cell_type": "code",
      "source": [
        "df1.head()"
      ],
      "metadata": {
        "id": "ff5KDCFxigWE"
      },
      "execution_count": null,
      "outputs": []
    },
    {
      "cell_type": "code",
      "source": [
        "# heare all are nominal\n",
        "\n",
        "# Company\n",
        "# cpu_brand\n",
        "# TypeName\n",
        "# gpu_brand\n",
        "# os"
      ],
      "metadata": {
        "id": "33SDToUBittG"
      },
      "execution_count": null,
      "outputs": []
    },
    {
      "cell_type": "code",
      "source": [
        "from sklearn.preprocessing import OneHotEncoder\n",
        "ohe= OneHotEncoder(handle_unknown='ignore', sparse_output= False).set_output(transform= 'pandas')\n",
        "ohetransform = ohe.fit_transform(df1[['Company','cpu_brand','TypeName','gpu_brand','os']])"
      ],
      "metadata": {
        "id": "dBHbxjEVgwBd"
      },
      "execution_count": null,
      "outputs": []
    },
    {
      "cell_type": "code",
      "source": [
        "ohetransform"
      ],
      "metadata": {
        "id": "xH-ly6D-jIlZ"
      },
      "execution_count": null,
      "outputs": []
    },
    {
      "cell_type": "code",
      "source": [
        "df1.head()  # here data is not changed because not impute encoded data"
      ],
      "metadata": {
        "id": "7PeJKFF9uZQn"
      },
      "execution_count": null,
      "outputs": []
    },
    {
      "cell_type": "code",
      "source": [
        "df1=pd.concat([df1,ohetransform], axis=1).drop(columns= ['Company','cpu_brand','TypeName','gpu_brand','os'])"
      ],
      "metadata": {
        "id": "fWv1qeqRu06u"
      },
      "execution_count": null,
      "outputs": []
    },
    {
      "cell_type": "code",
      "source": [
        "df1.head()"
      ],
      "metadata": {
        "id": "YILLx8b7xo9n"
      },
      "execution_count": null,
      "outputs": []
    },
    {
      "cell_type": "code",
      "source": [
        "x = df.drop(columns=['Price'])\n",
        "y = df['Price']"
      ],
      "metadata": {
        "id": "7g8ixoioxrku"
      },
      "execution_count": null,
      "outputs": []
    },
    {
      "cell_type": "code",
      "source": [
        "x.head(2)"
      ],
      "metadata": {
        "id": "navrKiIgyQx3"
      },
      "execution_count": null,
      "outputs": []
    },
    {
      "cell_type": "code",
      "source": [
        "y.head(2)"
      ],
      "metadata": {
        "id": "EFQVVXFpyWD_"
      },
      "execution_count": null,
      "outputs": []
    },
    {
      "cell_type": "code",
      "source": [
        "# train_test_split\n",
        "from sklearn.model_selection import train_test_split\n",
        "x_train,x_test,y_train,y_test = train_test_split(x, y, test_size= 0.2, random_state= 42)"
      ],
      "metadata": {
        "id": "TOGCObDwzMN1"
      },
      "execution_count": null,
      "outputs": []
    },
    {
      "cell_type": "code",
      "source": [
        "# create the model\n",
        "from sklearn.linear_model import LinearRegression\n",
        "# create variable\n",
        "lr= LinearRegression()\n",
        "# train the model\n",
        "lr.fit(x_train,y_train)"
      ],
      "metadata": {
        "id": "3uvp5PrM1AUZ"
      },
      "execution_count": null,
      "outputs": []
    },
    {
      "cell_type": "code",
      "source": [
        "# so here our x_test values has null values so we remove that first\n",
        "from sklearn.impute import SimpleImputer\n",
        "si= SimpleImputer(strategy= 'median')\n",
        "x_test = si.fit_transform(x_test)"
      ],
      "metadata": {
        "id": "sUD4CdGC2OSF"
      },
      "execution_count": null,
      "outputs": []
    },
    {
      "cell_type": "code",
      "source": [],
      "metadata": {
        "id": "L3NhZwz_5JGV"
      },
      "execution_count": null,
      "outputs": []
    },
    {
      "cell_type": "code",
      "source": [
        "# test\n",
        "ypred= lr.predict(x_test)"
      ],
      "metadata": {
        "id": "_5trypFP10gK"
      },
      "execution_count": null,
      "outputs": []
    },
    {
      "cell_type": "code",
      "source": [
        "# model evaluation matrics\n",
        "from sklearn.metrics import mean_squared_error,r2_score\n",
        "\n",
        "print(f'MSE: {mean_squared_error(y_test,ypred)}')\n",
        "print(f'R_square: {r2_score(y_test,ypred)}')"
      ],
      "metadata": {
        "id": "Yd2BgkVH7RCN"
      },
      "execution_count": null,
      "outputs": []
    },
    {
      "cell_type": "code",
      "source": [
        "y.var()         # variance is higher than MSE is good accuracy"
      ],
      "metadata": {
        "id": "1GKg1UM58Qko"
      },
      "execution_count": null,
      "outputs": []
    },
    {
      "cell_type": "code",
      "source": [],
      "metadata": {
        "id": "w7Fa0l1AaH9C"
      },
      "execution_count": null,
      "outputs": []
    },
    {
      "cell_type": "code",
      "source": [],
      "metadata": {
        "id": "Tvs9kG_taHtf"
      },
      "execution_count": null,
      "outputs": []
    },
    {
      "cell_type": "markdown",
      "source": [
        "# Exporting The Model"
      ],
      "metadata": {
        "id": "vMR42FFMaVgK"
      }
    },
    {
      "cell_type": "code",
      "source": [],
      "metadata": {
        "id": "DPTKhpenag61"
      },
      "execution_count": null,
      "outputs": []
    },
    {
      "cell_type": "code",
      "source": [
        "df2 = df2.drop(columns=['Price'])"
      ],
      "metadata": {
        "id": "BSESmDTRar4q"
      },
      "execution_count": null,
      "outputs": []
    },
    {
      "cell_type": "code",
      "source": [
        "df2.head()"
      ],
      "metadata": {
        "id": "Z0kDzNfv-uQt"
      },
      "execution_count": null,
      "outputs": []
    },
    {
      "cell_type": "code",
      "source": [
        "from sklearn.compose import ColumnTransformer\n",
        "from sklearn.pipeline import Pipeline\n",
        "from sklearn.preprocessing import OneHotEncoder\n",
        "from sklearn.linear_model import LinearRegression"
      ],
      "metadata": {
        "id": "XisYMgq9MSl4"
      },
      "execution_count": null,
      "outputs": []
    },
    {
      "cell_type": "code",
      "source": [
        "from sklearn.model_selection import train_test_split\n",
        "x_train,x_test,y_train,y_test = train_test_split(x,y,test_size=0.2,random_state=42)\n"
      ],
      "metadata": {
        "id": "l0yXUbSJMr9F"
      },
      "execution_count": null,
      "outputs": []
    },
    {
      "cell_type": "code",
      "source": [
        "step1 = ColumnTransformer(transformers=[\n",
        "    ('col_tnf',OneHotEncoder(sparse_output=False, drop='first', handle_unknown='ignore'),[0,1,7,10,11])\n",
        "],remainder='passthrough')\n",
        "\n",
        "step2 = LinearRegression()\n",
        "\n",
        "pipe = Pipeline([\n",
        "    ('step1',step1),\n",
        "    ('step2',step2)\n",
        "])\n",
        "\n",
        "pipe.fit(x_train,y_train)\n",
        "\n",
        "y_pred = pipe.predict(x_test)\n"
      ],
      "metadata": {
        "id": "cNYJBXQSMO67"
      },
      "execution_count": null,
      "outputs": []
    },
    {
      "cell_type": "code",
      "source": [
        "import pickle\n",
        "pickle.dump(df2,open('df2.pkl','wb'))\n",
        "pickle.dump(pipe,open('pipe.pkl','wb'))"
      ],
      "metadata": {
        "id": "tlQF9Zlybs1s"
      },
      "execution_count": null,
      "outputs": []
    },
    {
      "cell_type": "code",
      "source": [],
      "metadata": {
        "id": "k10CaUmq_C2Z"
      },
      "execution_count": null,
      "outputs": []
    }
  ]
}